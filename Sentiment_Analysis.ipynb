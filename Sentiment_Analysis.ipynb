{
  "cells": [
    {
      "cell_type": "markdown",
      "metadata": {
        "id": "UfUcYcy40miy"
      },
      "source": [
        "## Importing Packages"
      ]
    },
    {
      "cell_type": "code",
      "execution_count": 49,
      "metadata": {
        "colab": {
          "base_uri": "https://localhost:8080/"
        },
        "id": "4711c_JU0mjR",
        "outputId": "20eca104-3238-42f4-ba86-5ee27ddc1da9"
      },
      "outputs": [
        {
          "output_type": "stream",
          "name": "stderr",
          "text": [
            "[nltk_data] Downloading package stopwords to /root/nltk_data...\n",
            "[nltk_data]   Package stopwords is already up-to-date!\n",
            "[nltk_data] Downloading package punkt to /root/nltk_data...\n",
            "[nltk_data]   Unzipping tokenizers/punkt.zip.\n",
            "[nltk_data] Downloading package wordnet to /root/nltk_data...\n",
            "[nltk_data]   Package wordnet is already up-to-date!\n"
          ]
        }
      ],
      "source": [
        "#Data management\n",
        "import pandas as pd\n",
        "import numpy as np\n",
        "np.random.seed(0)\n",
        "#from pandas_profiling import ProfileReport\n",
        "\n",
        "#TextBlob Features\n",
        "from textblob import TextBlob\n",
        "\n",
        "#Plotting\n",
        "import matplotlib.pyplot as plt\n",
        "\n",
        "#SciKit-Learn\n",
        "from sklearn.model_selection import train_test_split\n",
        "from sklearn.metrics import accuracy_score\n",
        "from sklearn.metrics import confusion_matrix, ConfusionMatrixDisplay\n",
        "\n",
        "#nltk\n",
        "import nltk\n",
        "from nltk.corpus import stopwords\n",
        "nltk.download('stopwords')\n",
        "nltk.download('punkt')\n",
        "from nltk.tokenize import word_tokenize\n",
        "from nltk.stem import WordNetLemmatizer\n",
        "nltk.download('wordnet')\n",
        "\n",
        "#Tensorflow / Keras\n",
        "import tensorflow as tf\n",
        "from tensorflow.keras.preprocessing.text import Tokenizer\n",
        "from tensorflow.keras.preprocessing.sequence import pad_sequences\n",
        "\n",
        "#Test\n",
        "from collections import Counter"
      ]
    },
    {
      "cell_type": "markdown",
      "metadata": {
        "id": "lLK_GkvR0mjV"
      },
      "source": [
        "## Importing Data"
      ]
    },
    {
      "cell_type": "code",
      "execution_count": 50,
      "metadata": {
        "id": "VRiKL62M0mjW"
      },
      "outputs": [],
      "source": [
        "#Training Data\n",
        "path = \"/content/twitter_training.csv\"\n",
        "train_df = pd.read_csv(path, names=[\"Tweet_ID\", \"Entity\", \"Sentiment\", \"Tweet_Content\"])\n",
        "\n",
        "#Test Data (Not to be used until the full model has been trained)\n",
        "test_path = \"/content/twitter_validation.csv\"\n",
        "test_df = pd.read_csv(test_path, names=[\"Tweet_ID\", \"Entity\", \"Sentiment\", \"Tweet_Content\"])"
      ]
    },
    {
      "cell_type": "markdown",
      "metadata": {
        "id": "QRWuPWbn0mjX"
      },
      "source": [
        "## Dropping NA Values"
      ]
    },
    {
      "cell_type": "code",
      "execution_count": 51,
      "metadata": {
        "id": "pm3B-xUS0mjY"
      },
      "outputs": [],
      "source": [
        "train_df = train_df.dropna()\n",
        "test_df = test_df.dropna()"
      ]
    },
    {
      "cell_type": "code",
      "execution_count": 52,
      "metadata": {
        "colab": {
          "base_uri": "https://localhost:8080/"
        },
        "id": "MLcSfP9n0mjZ",
        "outputId": "4b4673b3-1682-4656-a16a-6f53f1cc55c6"
      },
      "outputs": [
        {
          "output_type": "execute_result",
          "data": {
            "text/plain": [
              "(73996, 4)"
            ]
          },
          "metadata": {},
          "execution_count": 52
        }
      ],
      "source": [
        "train_df.shape"
      ]
    },
    {
      "cell_type": "markdown",
      "metadata": {
        "id": "245KHmjH0mjb"
      },
      "source": [
        "## Subsetting Data"
      ]
    },
    {
      "cell_type": "code",
      "execution_count": 53,
      "metadata": {
        "id": "MQLvICoS0mjc"
      },
      "outputs": [],
      "source": [
        "df = train_df.sample(frac=0.1)\n",
        "df.reset_index(drop=True, inplace=True)"
      ]
    },
    {
      "cell_type": "markdown",
      "metadata": {
        "id": "N1SIGxWO0mjd"
      },
      "source": [
        "## Data Exploration"
      ]
    },
    {
      "cell_type": "code",
      "execution_count": 54,
      "metadata": {
        "colab": {
          "base_uri": "https://localhost:8080/"
        },
        "id": "fZSb59CE0mje",
        "outputId": "959f505f-0fad-4741-ca6a-8881ac7ae6a2"
      },
      "outputs": [
        {
          "output_type": "stream",
          "name": "stdout",
          "text": [
            "<class 'pandas.core.frame.DataFrame'>\n",
            "RangeIndex: 7400 entries, 0 to 7399\n",
            "Data columns (total 4 columns):\n",
            " #   Column         Non-Null Count  Dtype \n",
            "---  ------         --------------  ----- \n",
            " 0   Tweet_ID       7400 non-null   int64 \n",
            " 1   Entity         7400 non-null   object\n",
            " 2   Sentiment      7400 non-null   object\n",
            " 3   Tweet_Content  7400 non-null   object\n",
            "dtypes: int64(1), object(3)\n",
            "memory usage: 231.4+ KB\n"
          ]
        }
      ],
      "source": [
        "#See overall information about the data frame\n",
        "df.info()"
      ]
    },
    {
      "cell_type": "code",
      "execution_count": 55,
      "metadata": {
        "colab": {
          "base_uri": "https://localhost:8080/",
          "height": 206
        },
        "id": "T5AGa-VF0mje",
        "outputId": "c3ef5f13-ebb0-4e09-8f91-591d1e5849a9"
      },
      "outputs": [
        {
          "output_type": "execute_result",
          "data": {
            "text/plain": [
              "   Tweet_ID                Entity Sentiment  \\\n",
              "0      2535           Borderlands  Negative   \n",
              "1     11073  TomClancysGhostRecon  Negative   \n",
              "2      3024                 Dota2   Neutral   \n",
              "3      6719              Fortnite  Negative   \n",
              "4      1533           Battlefield  Negative   \n",
              "\n",
              "                                       Tweet_Content  \n",
              "0  @ Borderlands. Can we get a big fix please? I'...  \n",
              "1  @GhostRecon You call 1.1.0 an update. You're h...  \n",
              "2  I'm excited to watch the EU's closed qualifyin...  \n",
              "3         anyways but my fortnite here,, im annoyed.  \n",
              "4  Collateral with the revolver is so satisfying....  "
            ],
            "text/html": [
              "\n",
              "  <div id=\"df-55287689-efb3-4fcb-b5a3-530753aac4ee\" class=\"colab-df-container\">\n",
              "    <div>\n",
              "<style scoped>\n",
              "    .dataframe tbody tr th:only-of-type {\n",
              "        vertical-align: middle;\n",
              "    }\n",
              "\n",
              "    .dataframe tbody tr th {\n",
              "        vertical-align: top;\n",
              "    }\n",
              "\n",
              "    .dataframe thead th {\n",
              "        text-align: right;\n",
              "    }\n",
              "</style>\n",
              "<table border=\"1\" class=\"dataframe\">\n",
              "  <thead>\n",
              "    <tr style=\"text-align: right;\">\n",
              "      <th></th>\n",
              "      <th>Tweet_ID</th>\n",
              "      <th>Entity</th>\n",
              "      <th>Sentiment</th>\n",
              "      <th>Tweet_Content</th>\n",
              "    </tr>\n",
              "  </thead>\n",
              "  <tbody>\n",
              "    <tr>\n",
              "      <th>0</th>\n",
              "      <td>2535</td>\n",
              "      <td>Borderlands</td>\n",
              "      <td>Negative</td>\n",
              "      <td>@ Borderlands. Can we get a big fix please? I'...</td>\n",
              "    </tr>\n",
              "    <tr>\n",
              "      <th>1</th>\n",
              "      <td>11073</td>\n",
              "      <td>TomClancysGhostRecon</td>\n",
              "      <td>Negative</td>\n",
              "      <td>@GhostRecon You call 1.1.0 an update. You're h...</td>\n",
              "    </tr>\n",
              "    <tr>\n",
              "      <th>2</th>\n",
              "      <td>3024</td>\n",
              "      <td>Dota2</td>\n",
              "      <td>Neutral</td>\n",
              "      <td>I'm excited to watch the EU's closed qualifyin...</td>\n",
              "    </tr>\n",
              "    <tr>\n",
              "      <th>3</th>\n",
              "      <td>6719</td>\n",
              "      <td>Fortnite</td>\n",
              "      <td>Negative</td>\n",
              "      <td>anyways but my fortnite here,, im annoyed.</td>\n",
              "    </tr>\n",
              "    <tr>\n",
              "      <th>4</th>\n",
              "      <td>1533</td>\n",
              "      <td>Battlefield</td>\n",
              "      <td>Negative</td>\n",
              "      <td>Collateral with the revolver is so satisfying....</td>\n",
              "    </tr>\n",
              "  </tbody>\n",
              "</table>\n",
              "</div>\n",
              "    <div class=\"colab-df-buttons\">\n",
              "\n",
              "  <div class=\"colab-df-container\">\n",
              "    <button class=\"colab-df-convert\" onclick=\"convertToInteractive('df-55287689-efb3-4fcb-b5a3-530753aac4ee')\"\n",
              "            title=\"Convert this dataframe to an interactive table.\"\n",
              "            style=\"display:none;\">\n",
              "\n",
              "  <svg xmlns=\"http://www.w3.org/2000/svg\" height=\"24px\" viewBox=\"0 -960 960 960\">\n",
              "    <path d=\"M120-120v-720h720v720H120Zm60-500h600v-160H180v160Zm220 220h160v-160H400v160Zm0 220h160v-160H400v160ZM180-400h160v-160H180v160Zm440 0h160v-160H620v160ZM180-180h160v-160H180v160Zm440 0h160v-160H620v160Z\"/>\n",
              "  </svg>\n",
              "    </button>\n",
              "\n",
              "  <style>\n",
              "    .colab-df-container {\n",
              "      display:flex;\n",
              "      gap: 12px;\n",
              "    }\n",
              "\n",
              "    .colab-df-convert {\n",
              "      background-color: #E8F0FE;\n",
              "      border: none;\n",
              "      border-radius: 50%;\n",
              "      cursor: pointer;\n",
              "      display: none;\n",
              "      fill: #1967D2;\n",
              "      height: 32px;\n",
              "      padding: 0 0 0 0;\n",
              "      width: 32px;\n",
              "    }\n",
              "\n",
              "    .colab-df-convert:hover {\n",
              "      background-color: #E2EBFA;\n",
              "      box-shadow: 0px 1px 2px rgba(60, 64, 67, 0.3), 0px 1px 3px 1px rgba(60, 64, 67, 0.15);\n",
              "      fill: #174EA6;\n",
              "    }\n",
              "\n",
              "    .colab-df-buttons div {\n",
              "      margin-bottom: 4px;\n",
              "    }\n",
              "\n",
              "    [theme=dark] .colab-df-convert {\n",
              "      background-color: #3B4455;\n",
              "      fill: #D2E3FC;\n",
              "    }\n",
              "\n",
              "    [theme=dark] .colab-df-convert:hover {\n",
              "      background-color: #434B5C;\n",
              "      box-shadow: 0px 1px 3px 1px rgba(0, 0, 0, 0.15);\n",
              "      filter: drop-shadow(0px 1px 2px rgba(0, 0, 0, 0.3));\n",
              "      fill: #FFFFFF;\n",
              "    }\n",
              "  </style>\n",
              "\n",
              "    <script>\n",
              "      const buttonEl =\n",
              "        document.querySelector('#df-55287689-efb3-4fcb-b5a3-530753aac4ee button.colab-df-convert');\n",
              "      buttonEl.style.display =\n",
              "        google.colab.kernel.accessAllowed ? 'block' : 'none';\n",
              "\n",
              "      async function convertToInteractive(key) {\n",
              "        const element = document.querySelector('#df-55287689-efb3-4fcb-b5a3-530753aac4ee');\n",
              "        const dataTable =\n",
              "          await google.colab.kernel.invokeFunction('convertToInteractive',\n",
              "                                                    [key], {});\n",
              "        if (!dataTable) return;\n",
              "\n",
              "        const docLinkHtml = 'Like what you see? Visit the ' +\n",
              "          '<a target=\"_blank\" href=https://colab.research.google.com/notebooks/data_table.ipynb>data table notebook</a>'\n",
              "          + ' to learn more about interactive tables.';\n",
              "        element.innerHTML = '';\n",
              "        dataTable['output_type'] = 'display_data';\n",
              "        await google.colab.output.renderOutput(dataTable, element);\n",
              "        const docLink = document.createElement('div');\n",
              "        docLink.innerHTML = docLinkHtml;\n",
              "        element.appendChild(docLink);\n",
              "      }\n",
              "    </script>\n",
              "  </div>\n",
              "\n",
              "\n",
              "<div id=\"df-1a15b244-94a1-411b-8eb6-45500ce8158d\">\n",
              "  <button class=\"colab-df-quickchart\" onclick=\"quickchart('df-1a15b244-94a1-411b-8eb6-45500ce8158d')\"\n",
              "            title=\"Suggest charts\"\n",
              "            style=\"display:none;\">\n",
              "\n",
              "<svg xmlns=\"http://www.w3.org/2000/svg\" height=\"24px\"viewBox=\"0 0 24 24\"\n",
              "     width=\"24px\">\n",
              "    <g>\n",
              "        <path d=\"M19 3H5c-1.1 0-2 .9-2 2v14c0 1.1.9 2 2 2h14c1.1 0 2-.9 2-2V5c0-1.1-.9-2-2-2zM9 17H7v-7h2v7zm4 0h-2V7h2v10zm4 0h-2v-4h2v4z\"/>\n",
              "    </g>\n",
              "</svg>\n",
              "  </button>\n",
              "\n",
              "<style>\n",
              "  .colab-df-quickchart {\n",
              "      --bg-color: #E8F0FE;\n",
              "      --fill-color: #1967D2;\n",
              "      --hover-bg-color: #E2EBFA;\n",
              "      --hover-fill-color: #174EA6;\n",
              "      --disabled-fill-color: #AAA;\n",
              "      --disabled-bg-color: #DDD;\n",
              "  }\n",
              "\n",
              "  [theme=dark] .colab-df-quickchart {\n",
              "      --bg-color: #3B4455;\n",
              "      --fill-color: #D2E3FC;\n",
              "      --hover-bg-color: #434B5C;\n",
              "      --hover-fill-color: #FFFFFF;\n",
              "      --disabled-bg-color: #3B4455;\n",
              "      --disabled-fill-color: #666;\n",
              "  }\n",
              "\n",
              "  .colab-df-quickchart {\n",
              "    background-color: var(--bg-color);\n",
              "    border: none;\n",
              "    border-radius: 50%;\n",
              "    cursor: pointer;\n",
              "    display: none;\n",
              "    fill: var(--fill-color);\n",
              "    height: 32px;\n",
              "    padding: 0;\n",
              "    width: 32px;\n",
              "  }\n",
              "\n",
              "  .colab-df-quickchart:hover {\n",
              "    background-color: var(--hover-bg-color);\n",
              "    box-shadow: 0 1px 2px rgba(60, 64, 67, 0.3), 0 1px 3px 1px rgba(60, 64, 67, 0.15);\n",
              "    fill: var(--button-hover-fill-color);\n",
              "  }\n",
              "\n",
              "  .colab-df-quickchart-complete:disabled,\n",
              "  .colab-df-quickchart-complete:disabled:hover {\n",
              "    background-color: var(--disabled-bg-color);\n",
              "    fill: var(--disabled-fill-color);\n",
              "    box-shadow: none;\n",
              "  }\n",
              "\n",
              "  .colab-df-spinner {\n",
              "    border: 2px solid var(--fill-color);\n",
              "    border-color: transparent;\n",
              "    border-bottom-color: var(--fill-color);\n",
              "    animation:\n",
              "      spin 1s steps(1) infinite;\n",
              "  }\n",
              "\n",
              "  @keyframes spin {\n",
              "    0% {\n",
              "      border-color: transparent;\n",
              "      border-bottom-color: var(--fill-color);\n",
              "      border-left-color: var(--fill-color);\n",
              "    }\n",
              "    20% {\n",
              "      border-color: transparent;\n",
              "      border-left-color: var(--fill-color);\n",
              "      border-top-color: var(--fill-color);\n",
              "    }\n",
              "    30% {\n",
              "      border-color: transparent;\n",
              "      border-left-color: var(--fill-color);\n",
              "      border-top-color: var(--fill-color);\n",
              "      border-right-color: var(--fill-color);\n",
              "    }\n",
              "    40% {\n",
              "      border-color: transparent;\n",
              "      border-right-color: var(--fill-color);\n",
              "      border-top-color: var(--fill-color);\n",
              "    }\n",
              "    60% {\n",
              "      border-color: transparent;\n",
              "      border-right-color: var(--fill-color);\n",
              "    }\n",
              "    80% {\n",
              "      border-color: transparent;\n",
              "      border-right-color: var(--fill-color);\n",
              "      border-bottom-color: var(--fill-color);\n",
              "    }\n",
              "    90% {\n",
              "      border-color: transparent;\n",
              "      border-bottom-color: var(--fill-color);\n",
              "    }\n",
              "  }\n",
              "</style>\n",
              "\n",
              "  <script>\n",
              "    async function quickchart(key) {\n",
              "      const quickchartButtonEl =\n",
              "        document.querySelector('#' + key + ' button');\n",
              "      quickchartButtonEl.disabled = true;  // To prevent multiple clicks.\n",
              "      quickchartButtonEl.classList.add('colab-df-spinner');\n",
              "      try {\n",
              "        const charts = await google.colab.kernel.invokeFunction(\n",
              "            'suggestCharts', [key], {});\n",
              "      } catch (error) {\n",
              "        console.error('Error during call to suggestCharts:', error);\n",
              "      }\n",
              "      quickchartButtonEl.classList.remove('colab-df-spinner');\n",
              "      quickchartButtonEl.classList.add('colab-df-quickchart-complete');\n",
              "    }\n",
              "    (() => {\n",
              "      let quickchartButtonEl =\n",
              "        document.querySelector('#df-1a15b244-94a1-411b-8eb6-45500ce8158d button');\n",
              "      quickchartButtonEl.style.display =\n",
              "        google.colab.kernel.accessAllowed ? 'block' : 'none';\n",
              "    })();\n",
              "  </script>\n",
              "</div>\n",
              "\n",
              "    </div>\n",
              "  </div>\n"
            ],
            "application/vnd.google.colaboratory.intrinsic+json": {
              "type": "dataframe",
              "variable_name": "df",
              "summary": "{\n  \"name\": \"df\",\n  \"rows\": 7400,\n  \"fields\": [\n    {\n      \"column\": \"Tweet_ID\",\n      \"properties\": {\n        \"dtype\": \"number\",\n        \"std\": 3715,\n        \"min\": 1,\n        \"max\": 13200,\n        \"num_unique_values\": 5808,\n        \"samples\": [\n          1970,\n          200,\n          5597\n        ],\n        \"semantic_type\": \"\",\n        \"description\": \"\"\n      }\n    },\n    {\n      \"column\": \"Entity\",\n      \"properties\": {\n        \"dtype\": \"category\",\n        \"num_unique_values\": 32,\n        \"samples\": [\n          \"RedDeadRedemption(RDR)\",\n          \"Xbox(Xseries)\",\n          \"PlayerUnknownsBattlegrounds(PUBG)\"\n        ],\n        \"semantic_type\": \"\",\n        \"description\": \"\"\n      }\n    },\n    {\n      \"column\": \"Sentiment\",\n      \"properties\": {\n        \"dtype\": \"category\",\n        \"num_unique_values\": 4,\n        \"samples\": [\n          \"Neutral\",\n          \"Positive\",\n          \"Negative\"\n        ],\n        \"semantic_type\": \"\",\n        \"description\": \"\"\n      }\n    },\n    {\n      \"column\": \"Tweet_Content\",\n      \"properties\": {\n        \"dtype\": \"string\",\n        \"num_unique_values\": 7219,\n        \"samples\": [\n          \"I\\u2019m shocked that the majority of people on Facebook actually thought pubs would be opening and would go straight back to normal \\ud83e\\udd74\",\n          \"Hello, @ NvidiaNL, for weeks I have been looking for an Nvidia Shield TV Pro to replace my Nvidia Shield 2015, but I can't get it anywhere. What's wrong? Why are you introducing a product I can't buy?\",\n          \"So When I play game franchise they in madden, painful hand crashes, right as I start. We\\u2019re still having these problems @EAMaddenNFL????\"\n        ],\n        \"semantic_type\": \"\",\n        \"description\": \"\"\n      }\n    }\n  ]\n}"
            }
          },
          "metadata": {},
          "execution_count": 55
        }
      ],
      "source": [
        "#Display a few entries\n",
        "df.head()"
      ]
    },
    {
      "cell_type": "markdown",
      "metadata": {
        "id": "d_Cp1veN0mjf"
      },
      "source": [
        "## Checking Balance of the Data in Output Categories"
      ]
    },
    {
      "cell_type": "code",
      "execution_count": 56,
      "metadata": {
        "colab": {
          "base_uri": "https://localhost:8080/",
          "height": 447
        },
        "id": "hfI8KxoK0mjg",
        "outputId": "3729732f-0560-40a8-aef2-1d72dc949790"
      },
      "outputs": [
        {
          "output_type": "execute_result",
          "data": {
            "text/plain": [
              "<BarContainer object of 4 artists>"
            ]
          },
          "metadata": {},
          "execution_count": 56
        },
        {
          "output_type": "display_data",
          "data": {
            "text/plain": [
              "<Figure size 640x480 with 1 Axes>"
            ],
            "image/png": "[encoded data removed]"
          },
          "metadata": {}
        }
      ],
      "source": [
        "#Checking balance of target classes\n",
        "sentiments = list(df[\"Sentiment\"].unique())\n",
        "\n",
        "sentiment_nums = [len(df[df[\"Sentiment\"] == sentiment]) / len(df) for sentiment in sentiments]\n",
        "\n",
        "plt.bar(sentiments, sentiment_nums)"
      ]
    },
    {
      "cell_type": "markdown",
      "metadata": {
        "id": "j6rae9pS0mjg"
      },
      "source": [
        "## Labels to Indexes (and Back Again)\n"
      ]
    },
    {
      "cell_type": "code",
      "execution_count": 57,
      "metadata": {
        "id": "B-0l1_lw0mjh"
      },
      "outputs": [],
      "source": [
        "#Define the indexing for each possible label in a dictionary\n",
        "class_to_index = {\"Neutral\":0, \"Irrelevant\":1, \"Negative\":2, \"Positive\": 3}\n",
        "\n",
        "#Creates a reverse dictionary\n",
        "index_to_class = dict((v,k) for k, v in class_to_index.items())\n",
        "\n",
        "#Creates lambda functions, applying the appropriate dictionary\n",
        "names_to_ids = lambda n: np.array([class_to_index.get(x) for x in n])\n",
        "ids_to_names = lambda n: np.array([index_to_class.get(x) for x in n])"
      ]
    },
    {
      "cell_type": "code",
      "execution_count": 58,
      "metadata": {
        "colab": {
          "base_uri": "https://localhost:8080/"
        },
        "id": "nLnYoi0i0mji",
        "outputId": "bb8168d5-a02b-4ddf-c296-65582154ceec"
      },
      "outputs": [
        {
          "output_type": "stream",
          "name": "stdout",
          "text": [
            "[3 2 1 0]\n",
            "['Neutral' 'Irrelevant' 'Negative' 'Positive']\n"
          ]
        }
      ],
      "source": [
        "#Test each function\n",
        "print(names_to_ids([\"Positive\", \"Negative\", \"Irrelevant\", \"Neutral\"]))\n",
        "print(ids_to_names([0,1,2,3]))"
      ]
    },
    {
      "cell_type": "code",
      "execution_count": 59,
      "metadata": {
        "id": "_Mc71qx_0mji"
      },
      "outputs": [],
      "source": [
        "#Convert the \"Sentiment\" column into indexes\n",
        "df[\"Sentiment\"] = names_to_ids(df[\"Sentiment\"])"
      ]
    },
    {
      "cell_type": "code",
      "execution_count": 60,
      "metadata": {
        "colab": {
          "base_uri": "https://localhost:8080/",
          "height": 206
        },
        "id": "SB2Qv7xl0mjj",
        "outputId": "6907f1d2-0a35-4c1d-ea63-a7f25ed4112c"
      },
      "outputs": [
        {
          "output_type": "execute_result",
          "data": {
            "text/plain": [
              "   Tweet_ID                Entity  Sentiment  \\\n",
              "0      2535           Borderlands          2   \n",
              "1     11073  TomClancysGhostRecon          2   \n",
              "2      3024                 Dota2          0   \n",
              "3      6719              Fortnite          2   \n",
              "4      1533           Battlefield          2   \n",
              "\n",
              "                                       Tweet_Content  \n",
              "0  @ Borderlands. Can we get a big fix please? I'...  \n",
              "1  @GhostRecon You call 1.1.0 an update. You're h...  \n",
              "2  I'm excited to watch the EU's closed qualifyin...  \n",
              "3         anyways but my fortnite here,, im annoyed.  \n",
              "4  Collateral with the revolver is so satisfying....  "
            ],
            "text/html": [
              "\n",
              "  <div id=\"df-a0ce50ed-eef5-47a3-8aa0-dc16c26b239b\" class=\"colab-df-container\">\n",
              "    <div>\n",
              "<style scoped>\n",
              "    .dataframe tbody tr th:only-of-type {\n",
              "        vertical-align: middle;\n",
              "    }\n",
              "\n",
              "    .dataframe tbody tr th {\n",
              "        vertical-align: top;\n",
              "    }\n",
              "\n",
              "    .dataframe thead th {\n",
              "        text-align: right;\n",
              "    }\n",
              "</style>\n",
              "<table border=\"1\" class=\"dataframe\">\n",
              "  <thead>\n",
              "    <tr style=\"text-align: right;\">\n",
              "      <th></th>\n",
              "      <th>Tweet_ID</th>\n",
              "      <th>Entity</th>\n",
              "      <th>Sentiment</th>\n",
              "      <th>Tweet_Content</th>\n",
              "    </tr>\n",
              "  </thead>\n",
              "  <tbody>\n",
              "    <tr>\n",
              "      <th>0</th>\n",
              "      <td>2535</td>\n",
              "      <td>Borderlands</td>\n",
              "      <td>2</td>\n",
              "      <td>@ Borderlands. Can we get a big fix please? I'...</td>\n",
              "    </tr>\n",
              "    <tr>\n",
              "      <th>1</th>\n",
              "      <td>11073</td>\n",
              "      <td>TomClancysGhostRecon</td>\n",
              "      <td>2</td>\n",
              "      <td>@GhostRecon You call 1.1.0 an update. You're h...</td>\n",
              "    </tr>\n",
              "    <tr>\n",
              "      <th>2</th>\n",
              "      <td>3024</td>\n",
              "      <td>Dota2</td>\n",
              "      <td>0</td>\n",
              "      <td>I'm excited to watch the EU's closed qualifyin...</td>\n",
              "    </tr>\n",
              "    <tr>\n",
              "      <th>3</th>\n",
              "      <td>6719</td>\n",
              "      <td>Fortnite</td>\n",
              "      <td>2</td>\n",
              "      <td>anyways but my fortnite here,, im annoyed.</td>\n",
              "    </tr>\n",
              "    <tr>\n",
              "      <th>4</th>\n",
              "      <td>1533</td>\n",
              "      <td>Battlefield</td>\n",
              "      <td>2</td>\n",
              "      <td>Collateral with the revolver is so satisfying....</td>\n",
              "    </tr>\n",
              "  </tbody>\n",
              "</table>\n",
              "</div>\n",
              "    <div class=\"colab-df-buttons\">\n",
              "\n",
              "  <div class=\"colab-df-container\">\n",
              "    <button class=\"colab-df-convert\" onclick=\"convertToInteractive('df-a0ce50ed-eef5-47a3-8aa0-dc16c26b239b')\"\n",
              "            title=\"Convert this dataframe to an interactive table.\"\n",
              "            style=\"display:none;\">\n",
              "\n",
              "  <svg xmlns=\"http://www.w3.org/2000/svg\" height=\"24px\" viewBox=\"0 -960 960 960\">\n",
              "    <path d=\"M120-120v-720h720v720H120Zm60-500h600v-160H180v160Zm220 220h160v-160H400v160Zm0 220h160v-160H400v160ZM180-400h160v-160H180v160Zm440 0h160v-160H620v160ZM180-180h160v-160H180v160Zm440 0h160v-160H620v160Z\"/>\n",
              "  </svg>\n",
              "    </button>\n",
              "\n",
              "  <style>\n",
              "    .colab-df-container {\n",
              "      display:flex;\n",
              "      gap: 12px;\n",
              "    }\n",
              "\n",
              "    .colab-df-convert {\n",
              "      background-color: #E8F0FE;\n",
              "      border: none;\n",
              "      border-radius: 50%;\n",
              "      cursor: pointer;\n",
              "      display: none;\n",
              "      fill: #1967D2;\n",
              "      height: 32px;\n",
              "      padding: 0 0 0 0;\n",
              "      width: 32px;\n",
              "    }\n",
              "\n",
              "    .colab-df-convert:hover {\n",
              "      background-color: #E2EBFA;\n",
              "      box-shadow: 0px 1px 2px rgba(60, 64, 67, 0.3), 0px 1px 3px 1px rgba(60, 64, 67, 0.15);\n",
              "      fill: #174EA6;\n",
              "    }\n",
              "\n",
              "    .colab-df-buttons div {\n",
              "      margin-bottom: 4px;\n",
              "    }\n",
              "\n",
              "    [theme=dark] .colab-df-convert {\n",
              "      background-color: #3B4455;\n",
              "      fill: #D2E3FC;\n",
              "    }\n",
              "\n",
              "    [theme=dark] .colab-df-convert:hover {\n",
              "      background-color: #434B5C;\n",
              "      box-shadow: 0px 1px 3px 1px rgba(0, 0, 0, 0.15);\n",
              "      filter: drop-shadow(0px 1px 2px rgba(0, 0, 0, 0.3));\n",
              "      fill: #FFFFFF;\n",
              "    }\n",
              "  </style>\n",
              "\n",
              "    <script>\n",
              "      const buttonEl =\n",
              "        document.querySelector('#df-a0ce50ed-eef5-47a3-8aa0-dc16c26b239b button.colab-df-convert');\n",
              "      buttonEl.style.display =\n",
              "        google.colab.kernel.accessAllowed ? 'block' : 'none';\n",
              "\n",
              "      async function convertToInteractive(key) {\n",
              "        const element = document.querySelector('#df-a0ce50ed-eef5-47a3-8aa0-dc16c26b239b');\n",
              "        const dataTable =\n",
              "          await google.colab.kernel.invokeFunction('convertToInteractive',\n",
              "                                                    [key], {});\n",
              "        if (!dataTable) return;\n",
              "\n",
              "        const docLinkHtml = 'Like what you see? Visit the ' +\n",
              "          '<a target=\"_blank\" href=https://colab.research.google.com/notebooks/data_table.ipynb>data table notebook</a>'\n",
              "          + ' to learn more about interactive tables.';\n",
              "        element.innerHTML = '';\n",
              "        dataTable['output_type'] = 'display_data';\n",
              "        await google.colab.output.renderOutput(dataTable, element);\n",
              "        const docLink = document.createElement('div');\n",
              "        docLink.innerHTML = docLinkHtml;\n",
              "        element.appendChild(docLink);\n",
              "      }\n",
              "    </script>\n",
              "  </div>\n",
              "\n",
              "\n",
              "<div id=\"df-b6f138ac-a540-4fb6-8cc2-6bcfdc9fbfcd\">\n",
              "  <button class=\"colab-df-quickchart\" onclick=\"quickchart('df-b6f138ac-a540-4fb6-8cc2-6bcfdc9fbfcd')\"\n",
              "            title=\"Suggest charts\"\n",
              "            style=\"display:none;\">\n",
              "\n",
              "<svg xmlns=\"http://www.w3.org/2000/svg\" height=\"24px\"viewBox=\"0 0 24 24\"\n",
              "     width=\"24px\">\n",
              "    <g>\n",
              "        <path d=\"M19 3H5c-1.1 0-2 .9-2 2v14c0 1.1.9 2 2 2h14c1.1 0 2-.9 2-2V5c0-1.1-.9-2-2-2zM9 17H7v-7h2v7zm4 0h-2V7h2v10zm4 0h-2v-4h2v4z\"/>\n",
              "    </g>\n",
              "</svg>\n",
              "  </button>\n",
              "\n",
              "<style>\n",
              "  .colab-df-quickchart {\n",
              "      --bg-color: #E8F0FE;\n",
              "      --fill-color: #1967D2;\n",
              "      --hover-bg-color: #E2EBFA;\n",
              "      --hover-fill-color: #174EA6;\n",
              "      --disabled-fill-color: #AAA;\n",
              "      --disabled-bg-color: #DDD;\n",
              "  }\n",
              "\n",
              "  [theme=dark] .colab-df-quickchart {\n",
              "      --bg-color: #3B4455;\n",
              "      --fill-color: #D2E3FC;\n",
              "      --hover-bg-color: #434B5C;\n",
              "      --hover-fill-color: #FFFFFF;\n",
              "      --disabled-bg-color: #3B4455;\n",
              "      --disabled-fill-color: #666;\n",
              "  }\n",
              "\n",
              "  .colab-df-quickchart {\n",
              "    background-color: var(--bg-color);\n",
              "    border: none;\n",
              "    border-radius: 50%;\n",
              "    cursor: pointer;\n",
              "    display: none;\n",
              "    fill: var(--fill-color);\n",
              "    height: 32px;\n",
              "    padding: 0;\n",
              "    width: 32px;\n",
              "  }\n",
              "\n",
              "  .colab-df-quickchart:hover {\n",
              "    background-color: var(--hover-bg-color);\n",
              "    box-shadow: 0 1px 2px rgba(60, 64, 67, 0.3), 0 1px 3px 1px rgba(60, 64, 67, 0.15);\n",
              "    fill: var(--button-hover-fill-color);\n",
              "  }\n",
              "\n",
              "  .colab-df-quickchart-complete:disabled,\n",
              "  .colab-df-quickchart-complete:disabled:hover {\n",
              "    background-color: var(--disabled-bg-color);\n",
              "    fill: var(--disabled-fill-color);\n",
              "    box-shadow: none;\n",
              "  }\n",
              "\n",
              "  .colab-df-spinner {\n",
              "    border: 2px solid var(--fill-color);\n",
              "    border-color: transparent;\n",
              "    border-bottom-color: var(--fill-color);\n",
              "    animation:\n",
              "      spin 1s steps(1) infinite;\n",
              "  }\n",
              "\n",
              "  @keyframes spin {\n",
              "    0% {\n",
              "      border-color: transparent;\n",
              "      border-bottom-color: var(--fill-color);\n",
              "      border-left-color: var(--fill-color);\n",
              "    }\n",
              "    20% {\n",
              "      border-color: transparent;\n",
              "      border-left-color: var(--fill-color);\n",
              "      border-top-color: var(--fill-color);\n",
              "    }\n",
              "    30% {\n",
              "      border-color: transparent;\n",
              "      border-left-color: var(--fill-color);\n",
              "      border-top-color: var(--fill-color);\n",
              "      border-right-color: var(--fill-color);\n",
              "    }\n",
              "    40% {\n",
              "      border-color: transparent;\n",
              "      border-right-color: var(--fill-color);\n",
              "      border-top-color: var(--fill-color);\n",
              "    }\n",
              "    60% {\n",
              "      border-color: transparent;\n",
              "      border-right-color: var(--fill-color);\n",
              "    }\n",
              "    80% {\n",
              "      border-color: transparent;\n",
              "      border-right-color: var(--fill-color);\n",
              "      border-bottom-color: var(--fill-color);\n",
              "    }\n",
              "    90% {\n",
              "      border-color: transparent;\n",
              "      border-bottom-color: var(--fill-color);\n",
              "    }\n",
              "  }\n",
              "</style>\n",
              "\n",
              "  <script>\n",
              "    async function quickchart(key) {\n",
              "      const quickchartButtonEl =\n",
              "        document.querySelector('#' + key + ' button');\n",
              "      quickchartButtonEl.disabled = true;  // To prevent multiple clicks.\n",
              "      quickchartButtonEl.classList.add('colab-df-spinner');\n",
              "      try {\n",
              "        const charts = await google.colab.kernel.invokeFunction(\n",
              "            'suggestCharts', [key], {});\n",
              "      } catch (error) {\n",
              "        console.error('Error during call to suggestCharts:', error);\n",
              "      }\n",
              "      quickchartButtonEl.classList.remove('colab-df-spinner');\n",
              "      quickchartButtonEl.classList.add('colab-df-quickchart-complete');\n",
              "    }\n",
              "    (() => {\n",
              "      let quickchartButtonEl =\n",
              "        document.querySelector('#df-b6f138ac-a540-4fb6-8cc2-6bcfdc9fbfcd button');\n",
              "      quickchartButtonEl.style.display =\n",
              "        google.colab.kernel.accessAllowed ? 'block' : 'none';\n",
              "    })();\n",
              "  </script>\n",
              "</div>\n",
              "\n",
              "    </div>\n",
              "  </div>\n"
            ],
            "application/vnd.google.colaboratory.intrinsic+json": {
              "type": "dataframe",
              "variable_name": "df",
              "summary": "{\n  \"name\": \"df\",\n  \"rows\": 7400,\n  \"fields\": [\n    {\n      \"column\": \"Tweet_ID\",\n      \"properties\": {\n        \"dtype\": \"number\",\n        \"std\": 3715,\n        \"min\": 1,\n        \"max\": 13200,\n        \"num_unique_values\": 5808,\n        \"samples\": [\n          1970,\n          200,\n          5597\n        ],\n        \"semantic_type\": \"\",\n        \"description\": \"\"\n      }\n    },\n    {\n      \"column\": \"Entity\",\n      \"properties\": {\n        \"dtype\": \"category\",\n        \"num_unique_values\": 32,\n        \"samples\": [\n          \"RedDeadRedemption(RDR)\",\n          \"Xbox(Xseries)\",\n          \"PlayerUnknownsBattlegrounds(PUBG)\"\n        ],\n        \"semantic_type\": \"\",\n        \"description\": \"\"\n      }\n    },\n    {\n      \"column\": \"Sentiment\",\n      \"properties\": {\n        \"dtype\": \"number\",\n        \"std\": 1,\n        \"min\": 0,\n        \"max\": 3,\n        \"num_unique_values\": 4,\n        \"samples\": [\n          0,\n          3,\n          2\n        ],\n        \"semantic_type\": \"\",\n        \"description\": \"\"\n      }\n    },\n    {\n      \"column\": \"Tweet_Content\",\n      \"properties\": {\n        \"dtype\": \"string\",\n        \"num_unique_values\": 7219,\n        \"samples\": [\n          \"I\\u2019m shocked that the majority of people on Facebook actually thought pubs would be opening and would go straight back to normal \\ud83e\\udd74\",\n          \"Hello, @ NvidiaNL, for weeks I have been looking for an Nvidia Shield TV Pro to replace my Nvidia Shield 2015, but I can't get it anywhere. What's wrong? Why are you introducing a product I can't buy?\",\n          \"So When I play game franchise they in madden, painful hand crashes, right as I start. We\\u2019re still having these problems @EAMaddenNFL????\"\n        ],\n        \"semantic_type\": \"\",\n        \"description\": \"\"\n      }\n    }\n  ]\n}"
            }
          },
          "metadata": {},
          "execution_count": 60
        }
      ],
      "source": [
        "df.head()"
      ]
    },
    {
      "cell_type": "markdown",
      "metadata": {
        "id": "Fy-yWjc60mjk"
      },
      "source": [
        "## NLP Data Enrichment"
      ]
    },
    {
      "cell_type": "code",
      "execution_count": 61,
      "metadata": {
        "id": "z8bGpFPV0mjk"
      },
      "outputs": [],
      "source": [
        "def remove_stopwords(ls):\n",
        "    #Lemmatises, then removes stop words\n",
        "    ls = [lemmatiser.lemmatize(word) for word in ls if word not in (stop_english) and (word.isalpha())]\n",
        "\n",
        "    #Joins the words back into a single string\n",
        "    ls = \" \".join(ls)\n",
        "    return ls\n",
        "\n",
        "#Splits each string into a list of words\n",
        "df[\"Tweet_Content_Split\"] = df[\"Tweet_Content\"].apply(word_tokenize)\n",
        "\n",
        "#Applies the above function to each entry in the DataFrame\n",
        "lemmatiser = WordNetLemmatizer()\n",
        "stop_english = Counter(stopwords.words()) #Here we use a Counter dictionary on the cached\n",
        "                                          # list of stop words for a huge speed-up\n",
        "df[\"Tweet_Content_Split\"] = df[\"Tweet_Content_Split\"].apply(remove_stopwords)"
      ]
    },
    {
      "cell_type": "code",
      "execution_count": 62,
      "metadata": {
        "colab": {
          "base_uri": "https://localhost:8080/",
          "height": 206
        },
        "id": "7uL7VHDX0mjl",
        "outputId": "536caf87-20e3-4ba3-f312-8f26dea4f111"
      },
      "outputs": [
        {
          "output_type": "execute_result",
          "data": {
            "text/plain": [
              "   Tweet_ID                Entity  Sentiment  \\\n",
              "0      2535           Borderlands          2   \n",
              "1     11073  TomClancysGhostRecon          2   \n",
              "2      3024                 Dota2          0   \n",
              "3      6719              Fortnite          2   \n",
              "4      1533           Battlefield          2   \n",
              "\n",
              "                                       Tweet_Content  \\\n",
              "0  @ Borderlands. Can we get a big fix please? I'...   \n",
              "1  @GhostRecon You call 1.1.0 an update. You're h...   \n",
              "2  I'm excited to watch the EU's closed qualifyin...   \n",
              "3         anyways but my fortnite here,, im annoyed.   \n",
              "4  Collateral with the revolver is so satisfying....   \n",
              "\n",
              "                                 Tweet_Content_Split  \n",
              "0  Borderlands Can big fix I reset entire factory...  \n",
              "1  GhostRecon You call update You laugh stay conn...  \n",
              "2  I excited watch EU closed qualifying match EU ...  \n",
              "3                                   fortnite annoyed  \n",
              "4                            Collateral revolver unk  "
            ],
            "text/html": [
              "\n",
              "  <div id=\"df-cf50a1c7-fa16-4f31-ae0e-eaceac2090c2\" class=\"colab-df-container\">\n",
              "    <div>\n",
              "<style scoped>\n",
              "    .dataframe tbody tr th:only-of-type {\n",
              "        vertical-align: middle;\n",
              "    }\n",
              "\n",
              "    .dataframe tbody tr th {\n",
              "        vertical-align: top;\n",
              "    }\n",
              "\n",
              "    .dataframe thead th {\n",
              "        text-align: right;\n",
              "    }\n",
              "</style>\n",
              "<table border=\"1\" class=\"dataframe\">\n",
              "  <thead>\n",
              "    <tr style=\"text-align: right;\">\n",
              "      <th></th>\n",
              "      <th>Tweet_ID</th>\n",
              "      <th>Entity</th>\n",
              "      <th>Sentiment</th>\n",
              "      <th>Tweet_Content</th>\n",
              "      <th>Tweet_Content_Split</th>\n",
              "    </tr>\n",
              "  </thead>\n",
              "  <tbody>\n",
              "    <tr>\n",
              "      <th>0</th>\n",
              "      <td>2535</td>\n",
              "      <td>Borderlands</td>\n",
              "      <td>2</td>\n",
              "      <td>@ Borderlands. Can we get a big fix please? I'...</td>\n",
              "      <td>Borderlands Can big fix I reset entire factory...</td>\n",
              "    </tr>\n",
              "    <tr>\n",
              "      <th>1</th>\n",
              "      <td>11073</td>\n",
              "      <td>TomClancysGhostRecon</td>\n",
              "      <td>2</td>\n",
              "      <td>@GhostRecon You call 1.1.0 an update. You're h...</td>\n",
              "      <td>GhostRecon You call update You laugh stay conn...</td>\n",
              "    </tr>\n",
              "    <tr>\n",
              "      <th>2</th>\n",
              "      <td>3024</td>\n",
              "      <td>Dota2</td>\n",
              "      <td>0</td>\n",
              "      <td>I'm excited to watch the EU's closed qualifyin...</td>\n",
              "      <td>I excited watch EU closed qualifying match EU ...</td>\n",
              "    </tr>\n",
              "    <tr>\n",
              "      <th>3</th>\n",
              "      <td>6719</td>\n",
              "      <td>Fortnite</td>\n",
              "      <td>2</td>\n",
              "      <td>anyways but my fortnite here,, im annoyed.</td>\n",
              "      <td>fortnite annoyed</td>\n",
              "    </tr>\n",
              "    <tr>\n",
              "      <th>4</th>\n",
              "      <td>1533</td>\n",
              "      <td>Battlefield</td>\n",
              "      <td>2</td>\n",
              "      <td>Collateral with the revolver is so satisfying....</td>\n",
              "      <td>Collateral revolver unk</td>\n",
              "    </tr>\n",
              "  </tbody>\n",
              "</table>\n",
              "</div>\n",
              "    <div class=\"colab-df-buttons\">\n",
              "\n",
              "  <div class=\"colab-df-container\">\n",
              "    <button class=\"colab-df-convert\" onclick=\"convertToInteractive('df-cf50a1c7-fa16-4f31-ae0e-eaceac2090c2')\"\n",
              "            title=\"Convert this dataframe to an interactive table.\"\n",
              "            style=\"display:none;\">\n",
              "\n",
              "  <svg xmlns=\"http://www.w3.org/2000/svg\" height=\"24px\" viewBox=\"0 -960 960 960\">\n",
              "    <path d=\"M120-120v-720h720v720H120Zm60-500h600v-160H180v160Zm220 220h160v-160H400v160Zm0 220h160v-160H400v160ZM180-400h160v-160H180v160Zm440 0h160v-160H620v160ZM180-180h160v-160H180v160Zm440 0h160v-160H620v160Z\"/>\n",
              "  </svg>\n",
              "    </button>\n",
              "\n",
              "  <style>\n",
              "    .colab-df-container {\n",
              "      display:flex;\n",
              "      gap: 12px;\n",
              "    }\n",
              "\n",
              "    .colab-df-convert {\n",
              "      background-color: #E8F0FE;\n",
              "      border: none;\n",
              "      border-radius: 50%;\n",
              "      cursor: pointer;\n",
              "      display: none;\n",
              "      fill: #1967D2;\n",
              "      height: 32px;\n",
              "      padding: 0 0 0 0;\n",
              "      width: 32px;\n",
              "    }\n",
              "\n",
              "    .colab-df-convert:hover {\n",
              "      background-color: #E2EBFA;\n",
              "      box-shadow: 0px 1px 2px rgba(60, 64, 67, 0.3), 0px 1px 3px 1px rgba(60, 64, 67, 0.15);\n",
              "      fill: #174EA6;\n",
              "    }\n",
              "\n",
              "    .colab-df-buttons div {\n",
              "      margin-bottom: 4px;\n",
              "    }\n",
              "\n",
              "    [theme=dark] .colab-df-convert {\n",
              "      background-color: #3B4455;\n",
              "      fill: #D2E3FC;\n",
              "    }\n",
              "\n",
              "    [theme=dark] .colab-df-convert:hover {\n",
              "      background-color: #434B5C;\n",
              "      box-shadow: 0px 1px 3px 1px rgba(0, 0, 0, 0.15);\n",
              "      filter: drop-shadow(0px 1px 2px rgba(0, 0, 0, 0.3));\n",
              "      fill: #FFFFFF;\n",
              "    }\n",
              "  </style>\n",
              "\n",
              "    <script>\n",
              "      const buttonEl =\n",
              "        document.querySelector('#df-cf50a1c7-fa16-4f31-ae0e-eaceac2090c2 button.colab-df-convert');\n",
              "      buttonEl.style.display =\n",
              "        google.colab.kernel.accessAllowed ? 'block' : 'none';\n",
              "\n",
              "      async function convertToInteractive(key) {\n",
              "        const element = document.querySelector('#df-cf50a1c7-fa16-4f31-ae0e-eaceac2090c2');\n",
              "        const dataTable =\n",
              "          await google.colab.kernel.invokeFunction('convertToInteractive',\n",
              "                                                    [key], {});\n",
              "        if (!dataTable) return;\n",
              "\n",
              "        const docLinkHtml = 'Like what you see? Visit the ' +\n",
              "          '<a target=\"_blank\" href=https://colab.research.google.com/notebooks/data_table.ipynb>data table notebook</a>'\n",
              "          + ' to learn more about interactive tables.';\n",
              "        element.innerHTML = '';\n",
              "        dataTable['output_type'] = 'display_data';\n",
              "        await google.colab.output.renderOutput(dataTable, element);\n",
              "        const docLink = document.createElement('div');\n",
              "        docLink.innerHTML = docLinkHtml;\n",
              "        element.appendChild(docLink);\n",
              "      }\n",
              "    </script>\n",
              "  </div>\n",
              "\n",
              "\n",
              "<div id=\"df-720aa856-7e7c-4efb-a1a2-5f24e74dfa3f\">\n",
              "  <button class=\"colab-df-quickchart\" onclick=\"quickchart('df-720aa856-7e7c-4efb-a1a2-5f24e74dfa3f')\"\n",
              "            title=\"Suggest charts\"\n",
              "            style=\"display:none;\">\n",
              "\n",
              "<svg xmlns=\"http://www.w3.org/2000/svg\" height=\"24px\"viewBox=\"0 0 24 24\"\n",
              "     width=\"24px\">\n",
              "    <g>\n",
              "        <path d=\"M19 3H5c-1.1 0-2 .9-2 2v14c0 1.1.9 2 2 2h14c1.1 0 2-.9 2-2V5c0-1.1-.9-2-2-2zM9 17H7v-7h2v7zm4 0h-2V7h2v10zm4 0h-2v-4h2v4z\"/>\n",
              "    </g>\n",
              "</svg>\n",
              "  </button>\n",
              "\n",
              "<style>\n",
              "  .colab-df-quickchart {\n",
              "      --bg-color: #E8F0FE;\n",
              "      --fill-color: #1967D2;\n",
              "      --hover-bg-color: #E2EBFA;\n",
              "      --hover-fill-color: #174EA6;\n",
              "      --disabled-fill-color: #AAA;\n",
              "      --disabled-bg-color: #DDD;\n",
              "  }\n",
              "\n",
              "  [theme=dark] .colab-df-quickchart {\n",
              "      --bg-color: #3B4455;\n",
              "      --fill-color: #D2E3FC;\n",
              "      --hover-bg-color: #434B5C;\n",
              "      --hover-fill-color: #FFFFFF;\n",
              "      --disabled-bg-color: #3B4455;\n",
              "      --disabled-fill-color: #666;\n",
              "  }\n",
              "\n",
              "  .colab-df-quickchart {\n",
              "    background-color: var(--bg-color);\n",
              "    border: none;\n",
              "    border-radius: 50%;\n",
              "    cursor: pointer;\n",
              "    display: none;\n",
              "    fill: var(--fill-color);\n",
              "    height: 32px;\n",
              "    padding: 0;\n",
              "    width: 32px;\n",
              "  }\n",
              "\n",
              "  .colab-df-quickchart:hover {\n",
              "    background-color: var(--hover-bg-color);\n",
              "    box-shadow: 0 1px 2px rgba(60, 64, 67, 0.3), 0 1px 3px 1px rgba(60, 64, 67, 0.15);\n",
              "    fill: var(--button-hover-fill-color);\n",
              "  }\n",
              "\n",
              "  .colab-df-quickchart-complete:disabled,\n",
              "  .colab-df-quickchart-complete:disabled:hover {\n",
              "    background-color: var(--disabled-bg-color);\n",
              "    fill: var(--disabled-fill-color);\n",
              "    box-shadow: none;\n",
              "  }\n",
              "\n",
              "  .colab-df-spinner {\n",
              "    border: 2px solid var(--fill-color);\n",
              "    border-color: transparent;\n",
              "    border-bottom-color: var(--fill-color);\n",
              "    animation:\n",
              "      spin 1s steps(1) infinite;\n",
              "  }\n",
              "\n",
              "  @keyframes spin {\n",
              "    0% {\n",
              "      border-color: transparent;\n",
              "      border-bottom-color: var(--fill-color);\n",
              "      border-left-color: var(--fill-color);\n",
              "    }\n",
              "    20% {\n",
              "      border-color: transparent;\n",
              "      border-left-color: var(--fill-color);\n",
              "      border-top-color: var(--fill-color);\n",
              "    }\n",
              "    30% {\n",
              "      border-color: transparent;\n",
              "      border-left-color: var(--fill-color);\n",
              "      border-top-color: var(--fill-color);\n",
              "      border-right-color: var(--fill-color);\n",
              "    }\n",
              "    40% {\n",
              "      border-color: transparent;\n",
              "      border-right-color: var(--fill-color);\n",
              "      border-top-color: var(--fill-color);\n",
              "    }\n",
              "    60% {\n",
              "      border-color: transparent;\n",
              "      border-right-color: var(--fill-color);\n",
              "    }\n",
              "    80% {\n",
              "      border-color: transparent;\n",
              "      border-right-color: var(--fill-color);\n",
              "      border-bottom-color: var(--fill-color);\n",
              "    }\n",
              "    90% {\n",
              "      border-color: transparent;\n",
              "      border-bottom-color: var(--fill-color);\n",
              "    }\n",
              "  }\n",
              "</style>\n",
              "\n",
              "  <script>\n",
              "    async function quickchart(key) {\n",
              "      const quickchartButtonEl =\n",
              "        document.querySelector('#' + key + ' button');\n",
              "      quickchartButtonEl.disabled = true;  // To prevent multiple clicks.\n",
              "      quickchartButtonEl.classList.add('colab-df-spinner');\n",
              "      try {\n",
              "        const charts = await google.colab.kernel.invokeFunction(\n",
              "            'suggestCharts', [key], {});\n",
              "      } catch (error) {\n",
              "        console.error('Error during call to suggestCharts:', error);\n",
              "      }\n",
              "      quickchartButtonEl.classList.remove('colab-df-spinner');\n",
              "      quickchartButtonEl.classList.add('colab-df-quickchart-complete');\n",
              "    }\n",
              "    (() => {\n",
              "      let quickchartButtonEl =\n",
              "        document.querySelector('#df-720aa856-7e7c-4efb-a1a2-5f24e74dfa3f button');\n",
              "      quickchartButtonEl.style.display =\n",
              "        google.colab.kernel.accessAllowed ? 'block' : 'none';\n",
              "    })();\n",
              "  </script>\n",
              "</div>\n",
              "\n",
              "    </div>\n",
              "  </div>\n"
            ],
            "application/vnd.google.colaboratory.intrinsic+json": {
              "type": "dataframe",
              "variable_name": "df",
              "summary": "{\n  \"name\": \"df\",\n  \"rows\": 7400,\n  \"fields\": [\n    {\n      \"column\": \"Tweet_ID\",\n      \"properties\": {\n        \"dtype\": \"number\",\n        \"std\": 3715,\n        \"min\": 1,\n        \"max\": 13200,\n        \"num_unique_values\": 5808,\n        \"samples\": [\n          1970,\n          200,\n          5597\n        ],\n        \"semantic_type\": \"\",\n        \"description\": \"\"\n      }\n    },\n    {\n      \"column\": \"Entity\",\n      \"properties\": {\n        \"dtype\": \"category\",\n        \"num_unique_values\": 32,\n        \"samples\": [\n          \"RedDeadRedemption(RDR)\",\n          \"Xbox(Xseries)\",\n          \"PlayerUnknownsBattlegrounds(PUBG)\"\n        ],\n        \"semantic_type\": \"\",\n        \"description\": \"\"\n      }\n    },\n    {\n      \"column\": \"Sentiment\",\n      \"properties\": {\n        \"dtype\": \"number\",\n        \"std\": 1,\n        \"min\": 0,\n        \"max\": 3,\n        \"num_unique_values\": 4,\n        \"samples\": [\n          0,\n          3,\n          2\n        ],\n        \"semantic_type\": \"\",\n        \"description\": \"\"\n      }\n    },\n    {\n      \"column\": \"Tweet_Content\",\n      \"properties\": {\n        \"dtype\": \"string\",\n        \"num_unique_values\": 7219,\n        \"samples\": [\n          \"I\\u2019m shocked that the majority of people on Facebook actually thought pubs would be opening and would go straight back to normal \\ud83e\\udd74\",\n          \"Hello, @ NvidiaNL, for weeks I have been looking for an Nvidia Shield TV Pro to replace my Nvidia Shield 2015, but I can't get it anywhere. What's wrong? Why are you introducing a product I can't buy?\",\n          \"So When I play game franchise they in madden, painful hand crashes, right as I start. We\\u2019re still having these problems @EAMaddenNFL????\"\n        ],\n        \"semantic_type\": \"\",\n        \"description\": \"\"\n      }\n    },\n    {\n      \"column\": \"Tweet_Content_Split\",\n      \"properties\": {\n        \"dtype\": \"string\",\n        \"num_unique_values\": 6935,\n        \"samples\": [\n          \"But hell sweat harder skin\",\n          \"GPUDirect GeForce\",\n          \"CHILLS\"\n        ],\n        \"semantic_type\": \"\",\n        \"description\": \"\"\n      }\n    }\n  ]\n}"
            }
          },
          "metadata": {},
          "execution_count": 62
        }
      ],
      "source": [
        "df.head()"
      ]
    },
    {
      "cell_type": "markdown",
      "metadata": {
        "id": "pFIIHUbw0mjm"
      },
      "source": [
        "## Tokenisation"
      ]
    },
    {
      "cell_type": "code",
      "execution_count": 63,
      "metadata": {
        "id": "-vlni3ry0mjm"
      },
      "outputs": [],
      "source": [
        "#Define the Tokeniser\n",
        "tokeniser = Tokenizer(num_words=10000, lower=True)\n",
        "\n",
        "#Create the corpus by finding the most common\n",
        "tokeniser.fit_on_texts(df[\"Tweet_Content_Split\"])"
      ]
    },
    {
      "cell_type": "code",
      "execution_count": 64,
      "metadata": {
        "id": "zFLx3BoK0mjn"
      },
      "outputs": [],
      "source": [
        "#Tokenise our column of edited Tweet content\n",
        "tweet_tokens = tokeniser.texts_to_sequences(list(df[\"Tweet_Content_Split\"]))"
      ]
    },
    {
      "cell_type": "code",
      "execution_count": 65,
      "metadata": {
        "id": "YD9Luv9m0mjn"
      },
      "outputs": [],
      "source": [
        "#Pad these sequences to make them the same length\n",
        "tweet_tokens = pad_sequences(tweet_tokens, truncating = 'post', padding='post', maxlen=50)"
      ]
    },
    {
      "cell_type": "code",
      "execution_count": 66,
      "metadata": {
        "colab": {
          "base_uri": "https://localhost:8080/"
        },
        "id": "2fjC4o7s0mjo",
        "outputId": "ed0f7482-b99e-45ed-91a3-467b3fa23bd1"
      },
      "outputs": [
        {
          "output_type": "execute_result",
          "data": {
            "text/plain": [
              "(7400, 50)"
            ]
          },
          "metadata": {},
          "execution_count": 66
        }
      ],
      "source": [
        "tweet_tokens.shape"
      ]
    },
    {
      "cell_type": "markdown",
      "metadata": {
        "id": "XVMPOG6Z0mjo"
      },
      "source": [
        "## Final Data Preparation"
      ]
    },
    {
      "cell_type": "code",
      "execution_count": 67,
      "metadata": {
        "id": "O1NRG12C0mjp"
      },
      "outputs": [],
      "source": [
        "#Remove dependent variable\n",
        "y = df[\"Sentiment\"]\n",
        "\n",
        "#Drop all non-useful columns\n",
        "df = pd.DataFrame(tweet_tokens)"
      ]
    },
    {
      "cell_type": "code",
      "execution_count": 68,
      "metadata": {
        "colab": {
          "base_uri": "https://localhost:8080/"
        },
        "id": "rkoNNLXl0mjp",
        "outputId": "db3188e3-f729-4554-bb0a-e527cf06d239"
      },
      "outputs": [
        {
          "output_type": "execute_result",
          "data": {
            "text/plain": [
              "(7400, 50)"
            ]
          },
          "metadata": {},
          "execution_count": 68
        }
      ],
      "source": [
        "#Display final shape\n",
        "df.shape"
      ]
    },
    {
      "cell_type": "markdown",
      "metadata": {
        "id": "kza8KCL10mjq"
      },
      "source": [
        "## Test-Train Split"
      ]
    },
    {
      "cell_type": "code",
      "execution_count": 69,
      "metadata": {
        "id": "w-PA191J0mjr"
      },
      "outputs": [],
      "source": [
        "X_train, X_test, y_train, y_test = train_test_split(df, y, test_size=0.2, random_state=1)"
      ]
    },
    {
      "cell_type": "code",
      "execution_count": 70,
      "metadata": {
        "id": "l5hSZYcq0mjr"
      },
      "outputs": [],
      "source": [
        "model = tf.keras.models.Sequential([\n",
        "tf.keras.layers.Embedding(10000,16,input_length=50),\n",
        "tf.keras.layers.Bidirectional(tf.keras.layers.LSTM(20, return_sequences=True)),\n",
        "tf.keras.layers.Bidirectional(tf.keras.layers.LSTM(20)),\n",
        "tf.keras.layers.Dense(4, activation='softmax')\n",
        "])\n",
        "model.compile(\n",
        "     loss='sparse_categorical_crossentropy',\n",
        "     optimizer='adam',\n",
        "     metrics=['accuracy']\n",
        ")"
      ]
    },
    {
      "cell_type": "markdown",
      "metadata": {
        "id": "HcW-zVsf0mjs"
      },
      "source": [
        "## Training"
      ]
    },
    {
      "cell_type": "code",
      "execution_count": 71,
      "metadata": {
        "colab": {
          "base_uri": "https://localhost:8080/"
        },
        "id": "QcydSOw40mjs",
        "outputId": "2824723b-42ff-4f53-dfc4-631f72788fdc"
      },
      "outputs": [
        {
          "output_type": "stream",
          "name": "stdout",
          "text": [
            "Epoch 1/15\n",
            "185/185 [==============================] - 21s 74ms/step - loss: 1.3467 - accuracy: 0.3419 - val_loss: 1.2439 - val_accuracy: 0.4777\n",
            "Epoch 2/15\n",
            "185/185 [==============================] - 11s 62ms/step - loss: 1.0041 - accuracy: 0.5894 - val_loss: 1.0860 - val_accuracy: 0.5554\n",
            "Epoch 3/15\n",
            "185/185 [==============================] - 14s 77ms/step - loss: 0.6517 - accuracy: 0.7627 - val_loss: 1.1782 - val_accuracy: 0.5473\n",
            "Epoch 4/15\n",
            "185/185 [==============================] - 11s 58ms/step - loss: 0.4640 - accuracy: 0.8404 - val_loss: 1.1697 - val_accuracy: 0.5642\n",
            "Epoch 5/15\n",
            "185/185 [==============================] - 11s 60ms/step - loss: 0.3396 - accuracy: 0.8838 - val_loss: 1.4243 - val_accuracy: 0.5595\n",
            "Epoch 6/15\n",
            "185/185 [==============================] - 12s 66ms/step - loss: 0.2663 - accuracy: 0.9083 - val_loss: 1.5776 - val_accuracy: 0.5622\n",
            "Epoch 7/15\n",
            "185/185 [==============================] - 15s 79ms/step - loss: 0.2185 - accuracy: 0.9240 - val_loss: 1.6483 - val_accuracy: 0.5669\n",
            "Epoch 8/15\n",
            "185/185 [==============================] - 14s 76ms/step - loss: 0.1935 - accuracy: 0.9311 - val_loss: 1.6510 - val_accuracy: 0.5669\n",
            "Epoch 9/15\n",
            "185/185 [==============================] - 12s 67ms/step - loss: 0.1731 - accuracy: 0.9380 - val_loss: 1.7209 - val_accuracy: 0.5588\n",
            "Epoch 10/15\n",
            "185/185 [==============================] - 12s 65ms/step - loss: 0.1808 - accuracy: 0.9382 - val_loss: 1.6790 - val_accuracy: 0.5696\n",
            "Epoch 11/15\n",
            "185/185 [==============================] - 12s 63ms/step - loss: 0.1485 - accuracy: 0.9461 - val_loss: 1.7991 - val_accuracy: 0.5682\n",
            "Epoch 12/15\n",
            "185/185 [==============================] - 10s 56ms/step - loss: 0.1335 - accuracy: 0.9485 - val_loss: 1.8872 - val_accuracy: 0.5703\n",
            "Epoch 13/15\n",
            "185/185 [==============================] - 11s 58ms/step - loss: 0.1331 - accuracy: 0.9510 - val_loss: 1.9861 - val_accuracy: 0.5770\n",
            "Epoch 14/15\n",
            "185/185 [==============================] - 12s 63ms/step - loss: 0.1220 - accuracy: 0.9539 - val_loss: 2.0152 - val_accuracy: 0.5527\n",
            "Epoch 15/15\n",
            "185/185 [==============================] - 11s 61ms/step - loss: 0.1240 - accuracy: 0.9520 - val_loss: 2.0707 - val_accuracy: 0.5716\n"
          ]
        }
      ],
      "source": [
        "h = model.fit(\n",
        "     X_train, y_train,\n",
        "     validation_data=(X_test, y_test),\n",
        "     epochs=15,\n",
        "     callbacks=[tf.keras.callbacks.EarlyStopping(monitor='accuracy', patience=5)]\n",
        ")"
      ]
    },
    {
      "cell_type": "markdown",
      "metadata": {
        "id": "8T-Xk8Ql0mjt"
      },
      "source": [
        "## Model Evaluation\n"
      ]
    },
    {
      "cell_type": "code",
      "execution_count": 72,
      "metadata": {
        "colab": {
          "base_uri": "https://localhost:8080/"
        },
        "id": "6Ho9sIAb0mju",
        "outputId": "072335b7-450c-4091-dbf5-f8301370673b"
      },
      "outputs": [
        {
          "output_type": "stream",
          "name": "stdout",
          "text": [
            "47/47 [==============================] - 3s 16ms/step\n"
          ]
        }
      ],
      "source": [
        "#Generate predictions\n",
        "y_pred = np.argmax(model.predict(X_test), axis=1)\n",
        "\n",
        "#Assign labels to predictions and test data\n",
        "y_pred_labels = ids_to_names(y_pred)\n",
        "y_test_labels = ids_to_names(y_test)"
      ]
    },
    {
      "cell_type": "code",
      "execution_count": 73,
      "metadata": {
        "colab": {
          "base_uri": "https://localhost:8080/",
          "height": 466
        },
        "id": "FrQWqeXR0mju",
        "outputId": "1206ae0d-f574-4734-d713-be15b117e9f4"
      },
      "outputs": [
        {
          "output_type": "execute_result",
          "data": {
            "text/plain": [
              "<sklearn.metrics._plot.confusion_matrix.ConfusionMatrixDisplay at 0x78d7d5e2cdc0>"
            ]
          },
          "metadata": {},
          "execution_count": 73
        },
        {
          "output_type": "display_data",
          "data": {
            "text/plain": [
              "<Figure size 640x480 with 2 Axes>"
            ],
            "image/png": "[encoded data removed]"
          },
          "metadata": {}
        }
      ],
      "source": [
        "y_unique = list(set(y_test_labels))\n",
        "cm = confusion_matrix(y_test_labels, y_pred_labels, labels = y_unique, normalize='true')\n",
        "\n",
        "disp = ConfusionMatrixDisplay(confusion_matrix=cm, display_labels=y_unique)\n",
        "disp.plot()"
      ]
    },
    {
      "cell_type": "markdown",
      "metadata": {
        "id": "CoHyC-ci0mjv"
      },
      "source": [
        "## Training with Full Dataset"
      ]
    },
    {
      "cell_type": "code",
      "execution_count": 74,
      "metadata": {
        "id": "XYdhKBh_0mjy"
      },
      "outputs": [],
      "source": [
        "#Use the full dataset!\n",
        "df = train_df"
      ]
    },
    {
      "cell_type": "markdown",
      "metadata": {
        "id": "adBdNtBN0mjy"
      },
      "source": [
        "## Basic Data Enrichment"
      ]
    },
    {
      "cell_type": "code",
      "execution_count": 75,
      "metadata": {
        "id": "1zBZT5uw0mjz"
      },
      "outputs": [],
      "source": [
        "#Convert the \"Sentiment\" column into indexes\n",
        "\n",
        "##Train\n",
        "df[\"Sentiment\"] = names_to_ids(df[\"Sentiment\"])\n",
        "y = df[\"Sentiment\"]\n",
        "\n",
        "##Test\n",
        "test_df[\"Sentiment\"] = names_to_ids(test_df[\"Sentiment\"])\n",
        "y_test = test_df[\"Sentiment\"]"
      ]
    },
    {
      "cell_type": "markdown",
      "metadata": {
        "id": "xsbno3nq0mjz"
      },
      "source": [
        "## NLP Data Enrichment"
      ]
    },
    {
      "cell_type": "code",
      "execution_count": 76,
      "metadata": {
        "id": "nf8fgcWN0mj0"
      },
      "outputs": [],
      "source": [
        "#Removing stopwords and lemmatising\n",
        "\n",
        "##Train\n",
        "#Splits each string into a list of words\n",
        "df[\"Tweet_Content_Split\"] = df[\"Tweet_Content\"].apply(word_tokenize)\n",
        "\n",
        "#Applies the above function to each entry in the DataFrame\n",
        "lemmatiser = WordNetLemmatizer()\n",
        "stop_english = Counter(stopwords.words()) #Here we use a Counter dictionary on the cached\n",
        "                                          # list of stop words for a huge speed-up\n",
        "df[\"Tweet_Content_Split\"] = df[\"Tweet_Content_Split\"].apply(remove_stopwords)\n",
        "\n",
        "##Test\n",
        "test_df[\"Tweet_Content_Split\"] = test_df[\"Tweet_Content\"].apply(word_tokenize)\n",
        "\n",
        "test_df[\"Tweet_Content_Split\"] = test_df[\"Tweet_Content_Split\"].apply(remove_stopwords)"
      ]
    },
    {
      "cell_type": "code",
      "execution_count": 77,
      "metadata": {
        "id": "UId4rsC00mj1"
      },
      "outputs": [],
      "source": [
        "#Tokenisation\n",
        "\n",
        "#Define the Tokeniser\n",
        "tokeniser = Tokenizer(num_words=10000, lower=True)\n",
        "\n",
        "#Create the corpus by finding the most common\n",
        "tokeniser.fit_on_texts(df[\"Tweet_Content_Split\"])\n",
        "\n",
        "##Train\n",
        "#Tokenise our column of edited Tweet content\n",
        "tweet_tokens = tokeniser.texts_to_sequences(list(df[\"Tweet_Content_Split\"]))\n",
        "tweet_tokens = pad_sequences(tweet_tokens, truncating = 'post', padding='post', maxlen=50)\n",
        "\n",
        "##Test\n",
        "#Tokenise our column of edited Tweet content\n",
        "tweet_tokens_test = tokeniser.texts_to_matrix(list(test_df[\"Tweet_Content_Split\"]))\n",
        "tweet_tokens_test = pad_sequences(tweet_tokens_test, truncating = 'post', padding='post', maxlen=50)"
      ]
    },
    {
      "cell_type": "code",
      "execution_count": 78,
      "metadata": {
        "id": "1i7LcbrV0mj1"
      },
      "outputs": [],
      "source": [
        "#Final prep\n",
        "\n",
        "##Train\n",
        "#Drop all non-useful columns\n",
        "full_df = pd.DataFrame(tweet_tokens)\n",
        "\n",
        "##Test\n",
        "full_test_df = pd.DataFrame(tweet_tokens_test)"
      ]
    },
    {
      "cell_type": "markdown",
      "metadata": {
        "id": "moUI4TEf0mj2"
      },
      "source": [
        "## Model Definition and Training\n",
        "\n",
        "This time, we train with all of the available training data"
      ]
    },
    {
      "cell_type": "code",
      "execution_count": 79,
      "metadata": {
        "id": "IsN-Z9h40mj3"
      },
      "outputs": [],
      "source": [
        "#Original\n",
        "model = tf.keras.models.Sequential([\n",
        "tf.keras.layers.Embedding(10000,16,input_length=50),\n",
        "tf.keras.layers.Bidirectional(tf.keras.layers.LSTM(20, return_sequences=True)),\n",
        "tf.keras.layers.Bidirectional(tf.keras.layers.LSTM(20)),\n",
        "tf.keras.layers.Dense(4, activation='softmax')\n",
        "])\n",
        "\n",
        "model.compile(\n",
        "     loss='sparse_categorical_crossentropy',\n",
        "     optimizer='adam',\n",
        "     metrics=['accuracy']\n",
        ")"
      ]
    },
    {
      "cell_type": "code",
      "execution_count": 80,
      "metadata": {
        "colab": {
          "base_uri": "https://localhost:8080/"
        },
        "id": "UpBeKH5g0mj3",
        "outputId": "2c80f783-6f84-4f3b-91f4-34ed9cc06494"
      },
      "outputs": [
        {
          "output_type": "stream",
          "name": "stdout",
          "text": [
            "Epoch 1/30\n",
            "2313/2313 [==============================] - 177s 73ms/step - loss: 0.9362 - accuracy: 0.6147 - val_loss: 1.4084 - val_accuracy: 0.2770\n",
            "Epoch 2/30\n",
            "2313/2313 [==============================] - 170s 74ms/step - loss: 0.5560 - accuracy: 0.7922 - val_loss: 1.3989 - val_accuracy: 0.2880\n",
            "Epoch 3/30\n",
            "2313/2313 [==============================] - 168s 73ms/step - loss: 0.4257 - accuracy: 0.8408 - val_loss: 1.3712 - val_accuracy: 0.3180\n",
            "Epoch 4/30\n",
            "2313/2313 [==============================] - 169s 73ms/step - loss: 0.3569 - accuracy: 0.8655 - val_loss: 1.3896 - val_accuracy: 0.2620\n",
            "Epoch 5/30\n",
            "2313/2313 [==============================] - 166s 72ms/step - loss: 0.3154 - accuracy: 0.8806 - val_loss: 1.3695 - val_accuracy: 0.2850\n",
            "Epoch 6/30\n",
            "2313/2313 [==============================] - 164s 71ms/step - loss: 0.2847 - accuracy: 0.8910 - val_loss: 1.3668 - val_accuracy: 0.3090\n",
            "Epoch 7/30\n",
            "2313/2313 [==============================] - 168s 73ms/step - loss: 0.2601 - accuracy: 0.8999 - val_loss: 1.3854 - val_accuracy: 0.2750\n",
            "Epoch 8/30\n",
            "2313/2313 [==============================] - 167s 72ms/step - loss: 0.2410 - accuracy: 0.9064 - val_loss: 1.3560 - val_accuracy: 0.3200\n",
            "Epoch 9/30\n",
            "2313/2313 [==============================] - 173s 75ms/step - loss: 0.2240 - accuracy: 0.9135 - val_loss: 1.3940 - val_accuracy: 0.2760\n",
            "Epoch 10/30\n",
            "2313/2313 [==============================] - 166s 72ms/step - loss: 0.2110 - accuracy: 0.9169 - val_loss: 1.3896 - val_accuracy: 0.2620\n",
            "Epoch 11/30\n",
            "2313/2313 [==============================] - 166s 72ms/step - loss: 0.1980 - accuracy: 0.9220 - val_loss: 1.4202 - val_accuracy: 0.2780\n",
            "Epoch 12/30\n",
            "2313/2313 [==============================] - 168s 73ms/step - loss: 0.1881 - accuracy: 0.9249 - val_loss: 1.3892 - val_accuracy: 0.2760\n",
            "Epoch 13/30\n",
            "2313/2313 [==============================] - 165s 71ms/step - loss: 0.1786 - accuracy: 0.9288 - val_loss: 1.3914 - val_accuracy: 0.2640\n",
            "Epoch 14/30\n",
            "2313/2313 [==============================] - 166s 72ms/step - loss: 0.1703 - accuracy: 0.9326 - val_loss: 1.4267 - val_accuracy: 0.3030\n",
            "Epoch 15/30\n",
            "2313/2313 [==============================] - 167s 72ms/step - loss: 0.1629 - accuracy: 0.9350 - val_loss: 1.3959 - val_accuracy: 0.2860\n",
            "Epoch 16/30\n",
            "2313/2313 [==============================] - 167s 72ms/step - loss: 0.1578 - accuracy: 0.9375 - val_loss: 1.4037 - val_accuracy: 0.3000\n",
            "Epoch 17/30\n",
            "2313/2313 [==============================] - 167s 72ms/step - loss: 0.1519 - accuracy: 0.9387 - val_loss: 1.4100 - val_accuracy: 0.2850\n",
            "Epoch 18/30\n",
            "2313/2313 [==============================] - 170s 74ms/step - loss: 0.1466 - accuracy: 0.9399 - val_loss: 1.4074 - val_accuracy: 0.2740\n",
            "Epoch 19/30\n",
            "2313/2313 [==============================] - 168s 73ms/step - loss: 0.1406 - accuracy: 0.9429 - val_loss: 1.4098 - val_accuracy: 0.3120\n",
            "Epoch 20/30\n",
            "2313/2313 [==============================] - 168s 73ms/step - loss: 0.1374 - accuracy: 0.9437 - val_loss: 1.4441 - val_accuracy: 0.2380\n",
            "Epoch 21/30\n",
            "2313/2313 [==============================] - 167s 72ms/step - loss: 0.1333 - accuracy: 0.9453 - val_loss: 1.4395 - val_accuracy: 0.2650\n",
            "Epoch 22/30\n",
            "2313/2313 [==============================] - 167s 72ms/step - loss: 0.1290 - accuracy: 0.9464 - val_loss: 1.4214 - val_accuracy: 0.3090\n",
            "Epoch 23/30\n",
            "2313/2313 [==============================] - 164s 71ms/step - loss: 0.1265 - accuracy: 0.9471 - val_loss: 1.5111 - val_accuracy: 0.2650\n",
            "Epoch 24/30\n",
            "2313/2313 [==============================] - 169s 73ms/step - loss: 0.1235 - accuracy: 0.9486 - val_loss: 1.4062 - val_accuracy: 0.3080\n",
            "Epoch 25/30\n",
            "2313/2313 [==============================] - 171s 74ms/step - loss: 0.1190 - accuracy: 0.9498 - val_loss: 1.4922 - val_accuracy: 0.2920\n",
            "Epoch 26/30\n",
            "2313/2313 [==============================] - 168s 73ms/step - loss: 0.1179 - accuracy: 0.9514 - val_loss: 1.4754 - val_accuracy: 0.2900\n",
            "Epoch 27/30\n",
            "2313/2313 [==============================] - 167s 72ms/step - loss: 0.1159 - accuracy: 0.9503 - val_loss: 1.4408 - val_accuracy: 0.2950\n",
            "Epoch 28/30\n",
            "2313/2313 [==============================] - 168s 72ms/step - loss: 0.1120 - accuracy: 0.9517 - val_loss: 1.4534 - val_accuracy: 0.3020\n",
            "Epoch 29/30\n",
            "2313/2313 [==============================] - 167s 72ms/step - loss: 0.1100 - accuracy: 0.9533 - val_loss: 1.4373 - val_accuracy: 0.3070\n",
            "Epoch 30/30\n",
            "2313/2313 [==============================] - 166s 72ms/step - loss: 0.1088 - accuracy: 0.9537 - val_loss: 1.4547 - val_accuracy: 0.2940\n"
          ]
        }
      ],
      "source": [
        "h = model.fit(\n",
        "     full_df, y,\n",
        "     validation_data=(full_test_df, y_test),\n",
        "     epochs=30,\n",
        "     callbacks=[tf.keras.callbacks.EarlyStopping(monitor='accuracy', patience=5)]\n",
        ")"
      ]
    },
    {
      "cell_type": "markdown",
      "metadata": {
        "id": "oraBMumW0mj4"
      },
      "source": [
        "## Final Model Evaluation"
      ]
    },
    {
      "cell_type": "code",
      "execution_count": 81,
      "metadata": {
        "colab": {
          "base_uri": "https://localhost:8080/"
        },
        "id": "JpU3LkaH0mj4",
        "outputId": "40140d17-74dd-4f84-c713-2324599a16a4"
      },
      "outputs": [
        {
          "output_type": "stream",
          "name": "stdout",
          "text": [
            "32/32 [==============================] - 3s 25ms/step\n"
          ]
        }
      ],
      "source": [
        "#Generate predictions\n",
        "y_pred = np.argmax(model.predict(full_test_df), axis=1)\n",
        "\n",
        "#Assign labels to predictions and test data\n",
        "y_pred_labels = ids_to_names(y_pred)\n",
        "y_test_labels = ids_to_names(y_test)"
      ]
    },
    {
      "cell_type": "code",
      "execution_count": 82,
      "metadata": {
        "colab": {
          "base_uri": "https://localhost:8080/",
          "height": 466
        },
        "id": "BO17iIS50mj5",
        "outputId": "0794d141-6c33-49f3-c4bc-2c0c3e1fbd05"
      },
      "outputs": [
        {
          "output_type": "execute_result",
          "data": {
            "text/plain": [
              "<sklearn.metrics._plot.confusion_matrix.ConfusionMatrixDisplay at 0x78d7e5c158d0>"
            ]
          },
          "metadata": {},
          "execution_count": 82
        },
        {
          "output_type": "display_data",
          "data": {
            "text/plain": [
              "<Figure size 640x480 with 2 Axes>"
            ],
            "image/png": "[encoded data removed]"
          },
          "metadata": {}
        }
      ],
      "source": [
        "y_unique = list(set(y_test_labels))\n",
        "cm = confusion_matrix(y_test_labels, y_pred_labels, labels = y_unique, normalize='true')\n",
        "\n",
        "disp = ConfusionMatrixDisplay(confusion_matrix=cm, display_labels=y_unique)\n",
        "disp.plot()"
      ]
    },
    {
      "cell_type": "code",
      "execution_count": 83,
      "metadata": {
        "colab": {
          "base_uri": "https://localhost:8080/"
        },
        "id": "LB7X8qW80mj6",
        "outputId": "10cce587-a33a-4e36-9285-8b0038c7587b"
      },
      "outputs": [
        {
          "output_type": "execute_result",
          "data": {
            "text/plain": [
              "0.294"
            ]
          },
          "metadata": {},
          "execution_count": 83
        }
      ],
      "source": [
        "#To see the final accuracy\n",
        "accuracy_score(y_test, y_pred)"
      ]
    }
  ],
  "metadata": {
    "kernelspec": {
      "display_name": "Python 3.9.13 64-bit",
      "language": "python",
      "name": "python3"
    },
    "language_info": {
      "codemirror_mode": {
        "name": "ipython",
        "version": 3
      },
      "file_extension": ".py",
      "mimetype": "text/x-python",
      "name": "python",
      "nbconvert_exporter": "python",
      "pygments_lexer": "ipython3",
      "version": "3.9.13"
    },
    "orig_nbformat": 4,
    "vscode": {
      "interpreter": {
        "hash": "11938c6bc6919ae2720b4d5011047913343b08a43b18698fd82dedb0d4417594"
      }
    },
    "colab": {
      "provenance": []
    }
  },
  "nbformat": 4,
  "nbformat_minor": 0
}